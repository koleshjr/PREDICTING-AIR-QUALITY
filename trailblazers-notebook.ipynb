{
 "cells": [
  {
   "cell_type": "markdown",
   "metadata": {},
   "source": [
    "## Air Quality Improved"
   ]
  },
  {
   "cell_type": "code",
   "execution_count": 1,
   "metadata": {
    "execution": {
     "iopub.execute_input": "2022-09-27T22:04:53.181285Z",
     "iopub.status.busy": "2022-09-27T22:04:53.180943Z",
     "iopub.status.idle": "2022-09-27T22:04:54.881950Z",
     "shell.execute_reply": "2022-09-27T22:04:54.880998Z",
     "shell.execute_reply.started": "2022-09-27T22:04:53.181209Z"
    }
   },
   "outputs": [
    {
     "name": "stderr",
     "output_type": "stream",
     "text": [
      "/home/koleshjr/.local/lib/python3.8/site-packages/xgboost/compat.py:36: FutureWarning: pandas.Int64Index is deprecated and will be removed from pandas in a future version. Use pandas.Index with the appropriate dtype instead.\n",
      "  from pandas import MultiIndex, Int64Index\n"
     ]
    }
   ],
   "source": [
    "# Import libraries\n",
    "import pandas as pd\n",
    "import numpy as np\n",
    "import matplotlib.pyplot as plt\n",
    "import seaborn as sns\n",
    "\n",
    "import catboost as catt\n",
    "import xgboost as xgb\n",
    "import lightgbm as lgb\n",
    "from tqdm.notebook import tqdm as tqdm_notebook\n",
    "\n",
    "from sklearn.model_selection import train_test_split, KFold,GroupKFold,StratifiedKFold\n",
    "\n",
    "from sklearn.metrics import mean_squared_error, mean_absolute_error\n",
    "\n",
    "pd.options.display.float_format = '{:.5f}'.format\n",
    "pd.options.display.max_rows = 2200\n",
    "pd.options.display.max_columns = 2200\n",
    "\n",
    "%matplotlib inline\n",
    "import warnings\n",
    "warnings.filterwarnings('ignore')\n",
    "\n",
    "import optuna\n",
    "\n",
    "from geopy.geocoders import Nominatim\n",
    "from geopy.point import Point\n",
    "import requests\n",
    "from io import StringIO "
   ]
  },
  {
   "cell_type": "code",
   "execution_count": 2,
   "metadata": {
    "execution": {
     "iopub.execute_input": "2022-09-27T22:04:54.884396Z",
     "iopub.status.busy": "2022-09-27T22:04:54.883745Z",
     "iopub.status.idle": "2022-09-27T22:04:55.530163Z",
     "shell.execute_reply": "2022-09-27T22:04:55.529193Z",
     "shell.execute_reply.started": "2022-09-27T22:04:54.884358Z"
    }
   },
   "outputs": [
    {
     "data": {
      "text/plain": [
       "((30557, 82), (16136, 77))"
      ]
     },
     "execution_count": 2,
     "metadata": {},
     "output_type": "execute_result"
    }
   ],
   "source": [
    "# Load files\n",
    "path= './'\n",
    "train = pd.read_csv(path + 'Train.csv', parse_dates = ['Date'])\n",
    "test = pd.read_csv(path + 'Test.csv', parse_dates = ['Date'])\n",
    "sub= pd.read_csv(path+ 'SampleSubmission.csv')\n",
    "\n",
    "\n",
    "train.shape, test.shape"
   ]
  },
  {
   "cell_type": "code",
   "execution_count": 3,
   "metadata": {
    "execution": {
     "iopub.execute_input": "2022-09-27T22:04:55.531920Z",
     "iopub.status.busy": "2022-09-27T22:04:55.531540Z",
     "iopub.status.idle": "2022-09-27T22:04:55.586960Z",
     "shell.execute_reply": "2022-09-27T22:04:55.586064Z",
     "shell.execute_reply.started": "2022-09-27T22:04:55.531881Z"
    }
   },
   "outputs": [],
   "source": [
    "train = train.sort_values(by=['Date','Place_ID']).reset_index(drop=True)\n",
    "test = test.sort_values(by=['Date','Place_ID']).reset_index(drop=True)"
   ]
  },
  {
   "cell_type": "code",
   "execution_count": 4,
   "metadata": {
    "execution": {
     "iopub.execute_input": "2022-09-27T22:04:55.589915Z",
     "iopub.status.busy": "2022-09-27T22:04:55.589454Z",
     "iopub.status.idle": "2022-09-27T22:04:55.604139Z",
     "shell.execute_reply": "2022-09-27T22:04:55.603108Z",
     "shell.execute_reply.started": "2022-09-27T22:04:55.589880Z"
    }
   },
   "outputs": [],
   "source": [
    "cat_columns = [col for col in train.select_dtypes('object').columns]\n",
    "\n",
    "num_columns = [col for col in train.select_dtypes(['int', 'float']).columns if col not in ['pm2_5']]"
   ]
  },
  {
   "cell_type": "code",
   "execution_count": 5,
   "metadata": {
    "execution": {
     "iopub.execute_input": "2022-09-27T22:04:55.605930Z",
     "iopub.status.busy": "2022-09-27T22:04:55.605479Z",
     "iopub.status.idle": "2022-09-27T22:04:55.624259Z",
     "shell.execute_reply": "2022-09-27T22:04:55.623404Z",
     "shell.execute_reply.started": "2022-09-27T22:04:55.605894Z"
    }
   },
   "outputs": [],
   "source": [
    "test = test[[col for col in test.columns if 'L3_CH4' not in col]]\n",
    "train = train[[col for col in train.columns if 'L3_CH4' not in col]]\n",
    "\n",
    "\n"
   ]
  },
  {
   "cell_type": "code",
   "execution_count": 6,
   "metadata": {
    "execution": {
     "iopub.execute_input": "2022-09-27T22:04:55.625935Z",
     "iopub.status.busy": "2022-09-27T22:04:55.625505Z",
     "iopub.status.idle": "2022-09-27T22:04:55.684204Z",
     "shell.execute_reply": "2022-09-27T22:04:55.683186Z",
     "shell.execute_reply.started": "2022-09-27T22:04:55.625896Z"
    }
   },
   "outputs": [],
   "source": [
    "#CONCATENATING BOTH THE TEST AND TRAIN FOR EASY DATA MANIPULATON\n",
    "ntrain = train.shape[0]\n",
    "ntest = test.shape[0]\n",
    "data = pd.concat((train, test)).reset_index(drop=True)"
   ]
  },
  {
   "cell_type": "code",
   "execution_count": 7,
   "metadata": {
    "execution": {
     "iopub.execute_input": "2022-09-27T22:04:55.686294Z",
     "iopub.status.busy": "2022-09-27T22:04:55.685881Z",
     "iopub.status.idle": "2022-09-27T22:04:57.765786Z",
     "shell.execute_reply": "2022-09-27T22:04:57.764822Z",
     "shell.execute_reply.started": "2022-09-27T22:04:55.686251Z"
    }
   },
   "outputs": [
    {
     "data": {
      "text/plain": [
       "target             16136\n",
       "target_min         16136\n",
       "target_max         16136\n",
       "target_variance    16136\n",
       "target_count       16136\n",
       "dtype: int64"
      ]
     },
     "execution_count": 7,
     "metadata": {},
     "output_type": "execute_result"
    }
   ],
   "source": [
    "nan_cols = [c for c in data.columns if c not in ['Place_ID X Date', 'Date', 'Place_ID', 'target', 'target_min',\n",
    "       'target_max', 'target_variance', 'target_count']]\n",
    "nan_cols = data[nan_cols].columns[data[nan_cols].isnull().any()].tolist()\n",
    "\n",
    "for col in nan_cols:\n",
    "    \n",
    "    while data[col].isnull().sum()>0:\n",
    "     \n",
    "        data[col].fillna(data[[\"Place_ID\", col]].groupby([\"Place_ID\"]).shift(periods=0).fillna(method='ffill', limit=1).fillna(method='bfill', limit=1)[col], inplace=True) \n",
    "\n",
    "data.isnull().sum()[data.isnull().sum()>0]"
   ]
  },
  {
   "cell_type": "code",
   "execution_count": 8,
   "metadata": {
    "execution": {
     "iopub.execute_input": "2022-09-27T22:04:57.768000Z",
     "iopub.status.busy": "2022-09-27T22:04:57.767366Z",
     "iopub.status.idle": "2022-09-27T22:04:57.775472Z",
     "shell.execute_reply": "2022-09-27T22:04:57.774558Z",
     "shell.execute_reply.started": "2022-09-27T22:04:57.767949Z"
    }
   },
   "outputs": [],
   "source": [
    "data['target'].loc[data['target'] >300]  = 300\n",
    "data['target'].loc[data['target'] <12.5]  = 12.5"
   ]
  },
  {
   "cell_type": "code",
   "execution_count": 9,
   "metadata": {
    "execution": {
     "iopub.execute_input": "2022-09-27T22:04:57.777309Z",
     "iopub.status.busy": "2022-09-27T22:04:57.776940Z",
     "iopub.status.idle": "2022-09-27T22:04:57.800185Z",
     "shell.execute_reply": "2022-09-27T22:04:57.799387Z",
     "shell.execute_reply.started": "2022-09-27T22:04:57.777271Z"
    }
   },
   "outputs": [],
   "source": [
    "from sklearn.preprocessing import LabelEncoder\n",
    "le = LabelEncoder()\n",
    "\n",
    "le_columns = [col for col in data.select_dtypes('object').columns if col not in ['Place_ID X Date','']]\n",
    "\n",
    "for col in le_columns:\n",
    "   data[col] = le.fit_transform(data[col])"
   ]
  },
  {
   "cell_type": "code",
   "execution_count": 10,
   "metadata": {
    "execution": {
     "iopub.execute_input": "2022-09-27T22:04:57.805526Z",
     "iopub.status.busy": "2022-09-27T22:04:57.804686Z",
     "iopub.status.idle": "2022-09-27T22:04:57.820953Z",
     "shell.execute_reply": "2022-09-27T22:04:57.820161Z",
     "shell.execute_reply.started": "2022-09-27T22:04:57.805491Z"
    }
   },
   "outputs": [],
   "source": [
    "# Convert datetime variables to datetime objects\n",
    "data[\"Date\"] = pd.to_datetime(data.Date)\n"
   ]
  },
  {
   "cell_type": "code",
   "execution_count": 11,
   "metadata": {
    "execution": {
     "iopub.execute_input": "2022-09-27T22:04:57.822889Z",
     "iopub.status.busy": "2022-09-27T22:04:57.822103Z",
     "iopub.status.idle": "2022-09-27T22:05:02.315943Z",
     "shell.execute_reply": "2022-09-27T22:05:02.314993Z",
     "shell.execute_reply.started": "2022-09-27T22:04:57.822851Z"
    }
   },
   "outputs": [
    {
     "data": {
      "application/vnd.jupyter.widget-view+json": {
       "model_id": "4b43e2ad560f4a4d8283c241bdd341f5",
       "version_major": 2,
       "version_minor": 0
      },
      "text/plain": [
       "  0%|          | 0/7 [00:00<?, ?it/s]"
      ]
     },
     "metadata": {},
     "output_type": "display_data"
    },
    {
     "data": {
      "application/vnd.jupyter.widget-view+json": {
       "model_id": "c1b05204fc14400588bc4a990c2de295",
       "version_major": 2,
       "version_minor": 0
      },
      "text/plain": [
       "  0%|          | 0/7 [00:00<?, ?it/s]"
      ]
     },
     "metadata": {},
     "output_type": "display_data"
    },
    {
     "data": {
      "application/vnd.jupyter.widget-view+json": {
       "model_id": "6d06d5ed810c415ca2d89635b4f3cc29",
       "version_major": 2,
       "version_minor": 0
      },
      "text/plain": [
       "  0%|          | 0/7 [00:00<?, ?it/s]"
      ]
     },
     "metadata": {},
     "output_type": "display_data"
    },
    {
     "data": {
      "application/vnd.jupyter.widget-view+json": {
       "model_id": "c1c1cd5225564db499a0e1deab3240f5",
       "version_major": 2,
       "version_minor": 0
      },
      "text/plain": [
       "  0%|          | 0/7 [00:00<?, ?it/s]"
      ]
     },
     "metadata": {},
     "output_type": "display_data"
    },
    {
     "data": {
      "application/vnd.jupyter.widget-view+json": {
       "model_id": "16eca5e94ea14c699466abf8862f63dc",
       "version_major": 2,
       "version_minor": 0
      },
      "text/plain": [
       "  0%|          | 0/7 [00:00<?, ?it/s]"
      ]
     },
     "metadata": {},
     "output_type": "display_data"
    },
    {
     "data": {
      "application/vnd.jupyter.widget-view+json": {
       "model_id": "d92d50d8a77d4a4899adc03943328a25",
       "version_major": 2,
       "version_minor": 0
      },
      "text/plain": [
       "  0%|          | 0/7 [00:00<?, ?it/s]"
      ]
     },
     "metadata": {},
     "output_type": "display_data"
    },
    {
     "data": {
      "application/vnd.jupyter.widget-view+json": {
       "model_id": "97582c922cb9411fab2a098c567d850f",
       "version_major": 2,
       "version_minor": 0
      },
      "text/plain": [
       "  0%|          | 0/7 [00:00<?, ?it/s]"
      ]
     },
     "metadata": {},
     "output_type": "display_data"
    },
    {
     "data": {
      "application/vnd.jupyter.widget-view+json": {
       "model_id": "2bd57ccf7d824546ad7a391ada03b356",
       "version_major": 2,
       "version_minor": 0
      },
      "text/plain": [
       "  0%|          | 0/7 [00:00<?, ?it/s]"
      ]
     },
     "metadata": {},
     "output_type": "display_data"
    },
    {
     "data": {
      "application/vnd.jupyter.widget-view+json": {
       "model_id": "857c724bb2b04525b6803f2faa482ebb",
       "version_major": 2,
       "version_minor": 0
      },
      "text/plain": [
       "  0%|          | 0/7 [00:00<?, ?it/s]"
      ]
     },
     "metadata": {},
     "output_type": "display_data"
    },
    {
     "data": {
      "application/vnd.jupyter.widget-view+json": {
       "model_id": "05699f7cb1834292a93c021cb93b4f79",
       "version_major": 2,
       "version_minor": 0
      },
      "text/plain": [
       "  0%|          | 0/7 [00:00<?, ?it/s]"
      ]
     },
     "metadata": {},
     "output_type": "display_data"
    },
    {
     "data": {
      "application/vnd.jupyter.widget-view+json": {
       "model_id": "28dd64b5ea144abc926c3cde33de111d",
       "version_major": 2,
       "version_minor": 0
      },
      "text/plain": [
       "  0%|          | 0/7 [00:00<?, ?it/s]"
      ]
     },
     "metadata": {},
     "output_type": "display_data"
    },
    {
     "data": {
      "application/vnd.jupyter.widget-view+json": {
       "model_id": "a9ad09977638400e88c0321f5b8ceeec",
       "version_major": 2,
       "version_minor": 0
      },
      "text/plain": [
       "  0%|          | 0/7 [00:00<?, ?it/s]"
      ]
     },
     "metadata": {},
     "output_type": "display_data"
    },
    {
     "data": {
      "application/vnd.jupyter.widget-view+json": {
       "model_id": "802f4814f03e418199424ae6adeb1c24",
       "version_major": 2,
       "version_minor": 0
      },
      "text/plain": [
       "  0%|          | 0/7 [00:00<?, ?it/s]"
      ]
     },
     "metadata": {},
     "output_type": "display_data"
    },
    {
     "data": {
      "application/vnd.jupyter.widget-view+json": {
       "model_id": "f58432c7c0904875a613ed7755300052",
       "version_major": 2,
       "version_minor": 0
      },
      "text/plain": [
       "  0%|          | 0/7 [00:00<?, ?it/s]"
      ]
     },
     "metadata": {},
     "output_type": "display_data"
    },
    {
     "data": {
      "application/vnd.jupyter.widget-view+json": {
       "model_id": "ae678243df564e05b083478acd70c70d",
       "version_major": 2,
       "version_minor": 0
      },
      "text/plain": [
       "  0%|          | 0/7 [00:00<?, ?it/s]"
      ]
     },
     "metadata": {},
     "output_type": "display_data"
    },
    {
     "data": {
      "application/vnd.jupyter.widget-view+json": {
       "model_id": "9087c26a1c7e4f0a8ddfc97716a0ca73",
       "version_major": 2,
       "version_minor": 0
      },
      "text/plain": [
       "  0%|          | 0/7 [00:00<?, ?it/s]"
      ]
     },
     "metadata": {},
     "output_type": "display_data"
    },
    {
     "data": {
      "application/vnd.jupyter.widget-view+json": {
       "model_id": "2ec610a9d0f74177921f65d15b9aa8c6",
       "version_major": 2,
       "version_minor": 0
      },
      "text/plain": [
       "  0%|          | 0/7 [00:00<?, ?it/s]"
      ]
     },
     "metadata": {},
     "output_type": "display_data"
    },
    {
     "data": {
      "application/vnd.jupyter.widget-view+json": {
       "model_id": "4475d172564a49a8b8229941fa38d2df",
       "version_major": 2,
       "version_minor": 0
      },
      "text/plain": [
       "  0%|          | 0/7 [00:00<?, ?it/s]"
      ]
     },
     "metadata": {},
     "output_type": "display_data"
    },
    {
     "data": {
      "application/vnd.jupyter.widget-view+json": {
       "model_id": "934cb7ad166c4ef3b86da7014c746492",
       "version_major": 2,
       "version_minor": 0
      },
      "text/plain": [
       "  0%|          | 0/7 [00:00<?, ?it/s]"
      ]
     },
     "metadata": {},
     "output_type": "display_data"
    },
    {
     "data": {
      "application/vnd.jupyter.widget-view+json": {
       "model_id": "b43c01b4a9fa4ba4aa3b2a779392d2dc",
       "version_major": 2,
       "version_minor": 0
      },
      "text/plain": [
       "  0%|          | 0/7 [00:00<?, ?it/s]"
      ]
     },
     "metadata": {},
     "output_type": "display_data"
    },
    {
     "data": {
      "application/vnd.jupyter.widget-view+json": {
       "model_id": "53fd5f53c08c420f883fced1dca0e2c5",
       "version_major": 2,
       "version_minor": 0
      },
      "text/plain": [
       "  0%|          | 0/7 [00:00<?, ?it/s]"
      ]
     },
     "metadata": {},
     "output_type": "display_data"
    },
    {
     "data": {
      "application/vnd.jupyter.widget-view+json": {
       "model_id": "6893ff1cb1a6482595f48be631edff1e",
       "version_major": 2,
       "version_minor": 0
      },
      "text/plain": [
       "  0%|          | 0/7 [00:00<?, ?it/s]"
      ]
     },
     "metadata": {},
     "output_type": "display_data"
    },
    {
     "data": {
      "application/vnd.jupyter.widget-view+json": {
       "model_id": "06b61f66d555436fa0d12412e8a0ab4f",
       "version_major": 2,
       "version_minor": 0
      },
      "text/plain": [
       "  0%|          | 0/7 [00:00<?, ?it/s]"
      ]
     },
     "metadata": {},
     "output_type": "display_data"
    },
    {
     "data": {
      "application/vnd.jupyter.widget-view+json": {
       "model_id": "78f8dd3aa50f4739a93bec4179f75fed",
       "version_major": 2,
       "version_minor": 0
      },
      "text/plain": [
       "  0%|          | 0/7 [00:00<?, ?it/s]"
      ]
     },
     "metadata": {},
     "output_type": "display_data"
    },
    {
     "data": {
      "application/vnd.jupyter.widget-view+json": {
       "model_id": "6c046d7ef0344042b0501ab927b593a3",
       "version_major": 2,
       "version_minor": 0
      },
      "text/plain": [
       "  0%|          | 0/7 [00:00<?, ?it/s]"
      ]
     },
     "metadata": {},
     "output_type": "display_data"
    },
    {
     "data": {
      "application/vnd.jupyter.widget-view+json": {
       "model_id": "4b06b961247a4172a83cd1e35c02eeec",
       "version_major": 2,
       "version_minor": 0
      },
      "text/plain": [
       "  0%|          | 0/7 [00:00<?, ?it/s]"
      ]
     },
     "metadata": {},
     "output_type": "display_data"
    },
    {
     "data": {
      "application/vnd.jupyter.widget-view+json": {
       "model_id": "c5b83aee0c2648cf9641991c8b11a51b",
       "version_major": 2,
       "version_minor": 0
      },
      "text/plain": [
       "  0%|          | 0/7 [00:00<?, ?it/s]"
      ]
     },
     "metadata": {},
     "output_type": "display_data"
    },
    {
     "data": {
      "application/vnd.jupyter.widget-view+json": {
       "model_id": "1490ffd1a68348979166b40fb9fbe300",
       "version_major": 2,
       "version_minor": 0
      },
      "text/plain": [
       "  0%|          | 0/7 [00:00<?, ?it/s]"
      ]
     },
     "metadata": {},
     "output_type": "display_data"
    },
    {
     "data": {
      "application/vnd.jupyter.widget-view+json": {
       "model_id": "8318061d72764e4b9945af6bc8b44384",
       "version_major": 2,
       "version_minor": 0
      },
      "text/plain": [
       "  0%|          | 0/7 [00:00<?, ?it/s]"
      ]
     },
     "metadata": {},
     "output_type": "display_data"
    },
    {
     "data": {
      "application/vnd.jupyter.widget-view+json": {
       "model_id": "dbb0642a642647729c566b68732e9c6f",
       "version_major": 2,
       "version_minor": 0
      },
      "text/plain": [
       "  0%|          | 0/7 [00:00<?, ?it/s]"
      ]
     },
     "metadata": {},
     "output_type": "display_data"
    },
    {
     "data": {
      "application/vnd.jupyter.widget-view+json": {
       "model_id": "c190ecfcc1054a3bb36bb20c8337b431",
       "version_major": 2,
       "version_minor": 0
      },
      "text/plain": [
       "  0%|          | 0/7 [00:00<?, ?it/s]"
      ]
     },
     "metadata": {},
     "output_type": "display_data"
    },
    {
     "data": {
      "application/vnd.jupyter.widget-view+json": {
       "model_id": "c6dc30d5e77d472cba6e006c92035f22",
       "version_major": 2,
       "version_minor": 0
      },
      "text/plain": [
       "  0%|          | 0/7 [00:00<?, ?it/s]"
      ]
     },
     "metadata": {},
     "output_type": "display_data"
    },
    {
     "data": {
      "application/vnd.jupyter.widget-view+json": {
       "model_id": "175a1be1c0934dbb85fae09112a4e411",
       "version_major": 2,
       "version_minor": 0
      },
      "text/plain": [
       "  0%|          | 0/7 [00:00<?, ?it/s]"
      ]
     },
     "metadata": {},
     "output_type": "display_data"
    },
    {
     "data": {
      "application/vnd.jupyter.widget-view+json": {
       "model_id": "f54b5337797b4fefbe53002e3dcf4295",
       "version_major": 2,
       "version_minor": 0
      },
      "text/plain": [
       "  0%|          | 0/7 [00:00<?, ?it/s]"
      ]
     },
     "metadata": {},
     "output_type": "display_data"
    },
    {
     "data": {
      "application/vnd.jupyter.widget-view+json": {
       "model_id": "aa82a2364e7f47dc85450c68a45b4dc0",
       "version_major": 2,
       "version_minor": 0
      },
      "text/plain": [
       "  0%|          | 0/7 [00:00<?, ?it/s]"
      ]
     },
     "metadata": {},
     "output_type": "display_data"
    },
    {
     "data": {
      "application/vnd.jupyter.widget-view+json": {
       "model_id": "35ae6fde3986436c936c0004e537f449",
       "version_major": 2,
       "version_minor": 0
      },
      "text/plain": [
       "  0%|          | 0/7 [00:00<?, ?it/s]"
      ]
     },
     "metadata": {},
     "output_type": "display_data"
    },
    {
     "data": {
      "application/vnd.jupyter.widget-view+json": {
       "model_id": "b7beb4d5909a4ec5b70e2e436ac97051",
       "version_major": 2,
       "version_minor": 0
      },
      "text/plain": [
       "  0%|          | 0/7 [00:00<?, ?it/s]"
      ]
     },
     "metadata": {},
     "output_type": "display_data"
    },
    {
     "data": {
      "application/vnd.jupyter.widget-view+json": {
       "model_id": "b2e2953f28784db7999696065c6e8da0",
       "version_major": 2,
       "version_minor": 0
      },
      "text/plain": [
       "  0%|          | 0/7 [00:00<?, ?it/s]"
      ]
     },
     "metadata": {},
     "output_type": "display_data"
    },
    {
     "data": {
      "application/vnd.jupyter.widget-view+json": {
       "model_id": "c53a3e4676d344828f6f1acc422d90a8",
       "version_major": 2,
       "version_minor": 0
      },
      "text/plain": [
       "  0%|          | 0/7 [00:00<?, ?it/s]"
      ]
     },
     "metadata": {},
     "output_type": "display_data"
    },
    {
     "data": {
      "application/vnd.jupyter.widget-view+json": {
       "model_id": "d7cec9bfd4824034aeee2b0e16eff1ef",
       "version_major": 2,
       "version_minor": 0
      },
      "text/plain": [
       "  0%|          | 0/7 [00:00<?, ?it/s]"
      ]
     },
     "metadata": {},
     "output_type": "display_data"
    },
    {
     "data": {
      "application/vnd.jupyter.widget-view+json": {
       "model_id": "86a80bde207d4fb68c40c7ba0400df6f",
       "version_major": 2,
       "version_minor": 0
      },
      "text/plain": [
       "  0%|          | 0/7 [00:00<?, ?it/s]"
      ]
     },
     "metadata": {},
     "output_type": "display_data"
    },
    {
     "data": {
      "application/vnd.jupyter.widget-view+json": {
       "model_id": "e960d87c3aa3478687259fc6193f03a8",
       "version_major": 2,
       "version_minor": 0
      },
      "text/plain": [
       "  0%|          | 0/7 [00:00<?, ?it/s]"
      ]
     },
     "metadata": {},
     "output_type": "display_data"
    },
    {
     "data": {
      "application/vnd.jupyter.widget-view+json": {
       "model_id": "60dd1909fc7e4f09871b95fcd5d4f3df",
       "version_major": 2,
       "version_minor": 0
      },
      "text/plain": [
       "  0%|          | 0/7 [00:00<?, ?it/s]"
      ]
     },
     "metadata": {},
     "output_type": "display_data"
    },
    {
     "data": {
      "application/vnd.jupyter.widget-view+json": {
       "model_id": "1568ad540982435c8f05b87afbf5f950",
       "version_major": 2,
       "version_minor": 0
      },
      "text/plain": [
       "  0%|          | 0/7 [00:00<?, ?it/s]"
      ]
     },
     "metadata": {},
     "output_type": "display_data"
    },
    {
     "data": {
      "application/vnd.jupyter.widget-view+json": {
       "model_id": "d82c6c741b844c938b49da7d37a6b664",
       "version_major": 2,
       "version_minor": 0
      },
      "text/plain": [
       "  0%|          | 0/7 [00:00<?, ?it/s]"
      ]
     },
     "metadata": {},
     "output_type": "display_data"
    },
    {
     "data": {
      "application/vnd.jupyter.widget-view+json": {
       "model_id": "77e358e772634d2c9e26b7dfc01fa6e2",
       "version_major": 2,
       "version_minor": 0
      },
      "text/plain": [
       "  0%|          | 0/7 [00:00<?, ?it/s]"
      ]
     },
     "metadata": {},
     "output_type": "display_data"
    },
    {
     "data": {
      "application/vnd.jupyter.widget-view+json": {
       "model_id": "5933d30fd04d420ead31206322e27f66",
       "version_major": 2,
       "version_minor": 0
      },
      "text/plain": [
       "  0%|          | 0/7 [00:00<?, ?it/s]"
      ]
     },
     "metadata": {},
     "output_type": "display_data"
    },
    {
     "data": {
      "application/vnd.jupyter.widget-view+json": {
       "model_id": "b6e5905c08a147c7910a7766e25d3496",
       "version_major": 2,
       "version_minor": 0
      },
      "text/plain": [
       "  0%|          | 0/7 [00:00<?, ?it/s]"
      ]
     },
     "metadata": {},
     "output_type": "display_data"
    },
    {
     "data": {
      "application/vnd.jupyter.widget-view+json": {
       "model_id": "722a977bb4524c70b4ad0928fc5d9b1c",
       "version_major": 2,
       "version_minor": 0
      },
      "text/plain": [
       "  0%|          | 0/7 [00:00<?, ?it/s]"
      ]
     },
     "metadata": {},
     "output_type": "display_data"
    },
    {
     "data": {
      "application/vnd.jupyter.widget-view+json": {
       "model_id": "5cfe2233aed3431d87585cdda962e794",
       "version_major": 2,
       "version_minor": 0
      },
      "text/plain": [
       "  0%|          | 0/7 [00:00<?, ?it/s]"
      ]
     },
     "metadata": {},
     "output_type": "display_data"
    },
    {
     "data": {
      "application/vnd.jupyter.widget-view+json": {
       "model_id": "05c5aa35c486432b9f0d9058c36c2ee2",
       "version_major": 2,
       "version_minor": 0
      },
      "text/plain": [
       "  0%|          | 0/7 [00:00<?, ?it/s]"
      ]
     },
     "metadata": {},
     "output_type": "display_data"
    },
    {
     "data": {
      "application/vnd.jupyter.widget-view+json": {
       "model_id": "38096eff24d3439c92633e7b0cfdb8a3",
       "version_major": 2,
       "version_minor": 0
      },
      "text/plain": [
       "  0%|          | 0/7 [00:00<?, ?it/s]"
      ]
     },
     "metadata": {},
     "output_type": "display_data"
    },
    {
     "data": {
      "application/vnd.jupyter.widget-view+json": {
       "model_id": "88ee65b61c8a4b53a06ce878ad17014e",
       "version_major": 2,
       "version_minor": 0
      },
      "text/plain": [
       "  0%|          | 0/7 [00:00<?, ?it/s]"
      ]
     },
     "metadata": {},
     "output_type": "display_data"
    },
    {
     "data": {
      "application/vnd.jupyter.widget-view+json": {
       "model_id": "92fb0ed67362417da33001edd9dbf3bc",
       "version_major": 2,
       "version_minor": 0
      },
      "text/plain": [
       "  0%|          | 0/7 [00:00<?, ?it/s]"
      ]
     },
     "metadata": {},
     "output_type": "display_data"
    },
    {
     "data": {
      "application/vnd.jupyter.widget-view+json": {
       "model_id": "31c4bb81707a45e3b680e3cf422d74cb",
       "version_major": 2,
       "version_minor": 0
      },
      "text/plain": [
       "  0%|          | 0/7 [00:00<?, ?it/s]"
      ]
     },
     "metadata": {},
     "output_type": "display_data"
    },
    {
     "data": {
      "application/vnd.jupyter.widget-view+json": {
       "model_id": "c38783a345544bde84964d6086b76bfe",
       "version_major": 2,
       "version_minor": 0
      },
      "text/plain": [
       "  0%|          | 0/7 [00:00<?, ?it/s]"
      ]
     },
     "metadata": {},
     "output_type": "display_data"
    },
    {
     "data": {
      "application/vnd.jupyter.widget-view+json": {
       "model_id": "fb400a97fc0e4c4c87fa3d9727c1513b",
       "version_major": 2,
       "version_minor": 0
      },
      "text/plain": [
       "  0%|          | 0/7 [00:00<?, ?it/s]"
      ]
     },
     "metadata": {},
     "output_type": "display_data"
    },
    {
     "data": {
      "application/vnd.jupyter.widget-view+json": {
       "model_id": "e8a54dbffc42421f88486993cc8bb44a",
       "version_major": 2,
       "version_minor": 0
      },
      "text/plain": [
       "  0%|          | 0/7 [00:00<?, ?it/s]"
      ]
     },
     "metadata": {},
     "output_type": "display_data"
    },
    {
     "data": {
      "application/vnd.jupyter.widget-view+json": {
       "model_id": "d26984ab22de4b19af2a0d00c7428279",
       "version_major": 2,
       "version_minor": 0
      },
      "text/plain": [
       "  0%|          | 0/7 [00:00<?, ?it/s]"
      ]
     },
     "metadata": {},
     "output_type": "display_data"
    },
    {
     "data": {
      "application/vnd.jupyter.widget-view+json": {
       "model_id": "8beb60f05374469986e43f8aad4a6ddb",
       "version_major": 2,
       "version_minor": 0
      },
      "text/plain": [
       "  0%|          | 0/7 [00:00<?, ?it/s]"
      ]
     },
     "metadata": {},
     "output_type": "display_data"
    },
    {
     "data": {
      "application/vnd.jupyter.widget-view+json": {
       "model_id": "18a0dcbd38ce4e67b0208acb4d3c8afb",
       "version_major": 2,
       "version_minor": 0
      },
      "text/plain": [
       "  0%|          | 0/7 [00:00<?, ?it/s]"
      ]
     },
     "metadata": {},
     "output_type": "display_data"
    },
    {
     "data": {
      "application/vnd.jupyter.widget-view+json": {
       "model_id": "5bee0ba35a72460d9ea44b6b7d037776",
       "version_major": 2,
       "version_minor": 0
      },
      "text/plain": [
       "  0%|          | 0/7 [00:00<?, ?it/s]"
      ]
     },
     "metadata": {},
     "output_type": "display_data"
    },
    {
     "data": {
      "application/vnd.jupyter.widget-view+json": {
       "model_id": "32fc4d8163dc41bc85f92088130d045a",
       "version_major": 2,
       "version_minor": 0
      },
      "text/plain": [
       "  0%|          | 0/7 [00:00<?, ?it/s]"
      ]
     },
     "metadata": {},
     "output_type": "display_data"
    },
    {
     "data": {
      "application/vnd.jupyter.widget-view+json": {
       "model_id": "e2f24a8d0f8745699e0d09613c6fb32f",
       "version_major": 2,
       "version_minor": 0
      },
      "text/plain": [
       "  0%|          | 0/7 [00:00<?, ?it/s]"
      ]
     },
     "metadata": {},
     "output_type": "display_data"
    },
    {
     "data": {
      "application/vnd.jupyter.widget-view+json": {
       "model_id": "7dd3e37b9d994d8c82c0d0812f2c56a2",
       "version_major": 2,
       "version_minor": 0
      },
      "text/plain": [
       "  0%|          | 0/7 [00:00<?, ?it/s]"
      ]
     },
     "metadata": {},
     "output_type": "display_data"
    },
    {
     "data": {
      "application/vnd.jupyter.widget-view+json": {
       "model_id": "d51758823aba4f5388053c936b75e40b",
       "version_major": 2,
       "version_minor": 0
      },
      "text/plain": [
       "  0%|          | 0/7 [00:00<?, ?it/s]"
      ]
     },
     "metadata": {},
     "output_type": "display_data"
    },
    {
     "data": {
      "application/vnd.jupyter.widget-view+json": {
       "model_id": "77739b2c3f9d442196d32c4529741a85",
       "version_major": 2,
       "version_minor": 0
      },
      "text/plain": [
       "  0%|          | 0/7 [00:00<?, ?it/s]"
      ]
     },
     "metadata": {},
     "output_type": "display_data"
    }
   ],
   "source": [
    "lag_cols =[ col for col in data.columns if col not in ['Place_ID X Date', 'Date', 'Place_ID', 'target', 'target_min',\n",
    "       'target_max', 'target_variance', 'target_count']]\n",
    "\n",
    "for col in lag_cols:\n",
    "    for i in tqdm_notebook(range(1, 8)):\n",
    "        data[f'prev_{col}_{i}'] = data.groupby('Place_ID')[col].shift(i)\n",
    "        data[f'next_{col}_{i}'] = data.groupby('Place_ID')[col].shift(-i)\n",
    "#         data[f'prevchange_{col}_{i}'] = data[col] - data[f'prev_{col}_{i}']\n",
    "        "
   ]
  },
  {
   "cell_type": "code",
   "execution_count": 12,
   "metadata": {
    "execution": {
     "iopub.execute_input": "2022-09-27T22:05:02.318004Z",
     "iopub.status.busy": "2022-09-27T22:05:02.317248Z",
     "iopub.status.idle": "2022-09-27T22:05:02.322964Z",
     "shell.execute_reply": "2022-09-27T22:05:02.321865Z",
     "shell.execute_reply.started": "2022-09-27T22:05:02.317954Z"
    }
   },
   "outputs": [],
   "source": [
    "# TARGET_COL = 'target'\n",
    "# for i in range(1, 8):\n",
    "#     data[f'prev_target_{i}'] = data.sort_values(by='Date')[TARGET_COL].fillna(method='ffill').shift(i).sort_index()\n",
    "#     data[f'next_target_{i}'] = data.sort_values(by='Date')[TARGET_COL].fillna(method='bfill').shift(-i).sort_index()"
   ]
  },
  {
   "cell_type": "code",
   "execution_count": 13,
   "metadata": {
    "execution": {
     "iopub.execute_input": "2022-09-27T22:05:02.325016Z",
     "iopub.status.busy": "2022-09-27T22:05:02.324606Z",
     "iopub.status.idle": "2022-09-27T22:05:02.335822Z",
     "shell.execute_reply": "2022-09-27T22:05:02.334667Z",
     "shell.execute_reply.started": "2022-09-27T22:05:02.324980Z"
    }
   },
   "outputs": [],
   "source": [
    "# data.head()"
   ]
  },
  {
   "cell_type": "code",
   "execution_count": 14,
   "metadata": {
    "execution": {
     "iopub.execute_input": "2022-09-27T22:05:02.337736Z",
     "iopub.status.busy": "2022-09-27T22:05:02.337383Z",
     "iopub.status.idle": "2022-09-27T22:05:02.345861Z",
     "shell.execute_reply": "2022-09-27T22:05:02.344874Z",
     "shell.execute_reply.started": "2022-09-27T22:05:02.337704Z"
    }
   },
   "outputs": [],
   "source": [
    "# for i in tqdm_notebook(range(1, 8)):\n",
    "#     data[f'forward_mean_{i}'] = data.sort_values(by='Date')['target'].shift(i).expanding().mean().fillna(method='ffill').sort_index()\n",
    "#     data[f'backward_mean_{i}'] = data.sort_values(by='Date')['target'].shift(-i).expanding().mean().fillna(method='bfill').sort_index()"
   ]
  },
  {
   "cell_type": "code",
   "execution_count": 15,
   "metadata": {
    "execution": {
     "iopub.execute_input": "2022-09-27T22:05:02.348038Z",
     "iopub.status.busy": "2022-09-27T22:05:02.347577Z",
     "iopub.status.idle": "2022-09-27T22:05:02.508968Z",
     "shell.execute_reply": "2022-09-27T22:05:02.508093Z",
     "shell.execute_reply.started": "2022-09-27T22:05:02.347882Z"
    }
   },
   "outputs": [],
   "source": [
    "for col in lag_cols:\n",
    "    data[f'gb_feature_date{col}'] =data.groupby(['Date'])[col].transform('mean')\n",
    "\n",
    "\n",
    "        "
   ]
  },
  {
   "cell_type": "code",
   "execution_count": 16,
   "metadata": {
    "execution": {
     "iopub.execute_input": "2022-09-27T22:05:02.511784Z",
     "iopub.status.busy": "2022-09-27T22:05:02.511188Z",
     "iopub.status.idle": "2022-09-27T22:05:02.643517Z",
     "shell.execute_reply": "2022-09-27T22:05:02.642669Z",
     "shell.execute_reply.started": "2022-09-27T22:05:02.511748Z"
    }
   },
   "outputs": [],
   "source": [
    "# Extract day, month year and hour from the Datetime column\n",
    "# day\n",
    "data['Datetime_day'] = data.Date.dt.day\n",
    "\n",
    "# month\n",
    "data['Datetime_month'] = data.Date.dt.month\n",
    " \n",
    "\n",
    "\n",
    "\n",
    "data['weekday'] =data.Date.dt.weekday\n",
    "\n",
    "data['month_day'] = data['Datetime_month'].astype(str) + '_' + data['Datetime_day'].astype(str)\n",
    "data['month_wkday'] = data['Datetime_month'].astype(str) + '_' + data['weekday'].astype(str)\n",
    "\n"
   ]
  },
  {
   "cell_type": "code",
   "execution_count": 17,
   "metadata": {
    "execution": {
     "iopub.execute_input": "2022-09-27T22:05:02.645437Z",
     "iopub.status.busy": "2022-09-27T22:05:02.645067Z",
     "iopub.status.idle": "2022-09-27T22:05:02.678091Z",
     "shell.execute_reply": "2022-09-27T22:05:02.677276Z",
     "shell.execute_reply.started": "2022-09-27T22:05:02.645402Z"
    }
   },
   "outputs": [],
   "source": [
    "\n",
    "le_columns = ['month_day','month_wkday','Date']\n",
    "\n",
    "for col in le_columns:\n",
    "   data[col] = le.fit_transform(data[col])"
   ]
  },
  {
   "cell_type": "code",
   "execution_count": 18,
   "metadata": {
    "execution": {
     "iopub.execute_input": "2022-09-27T22:05:02.680644Z",
     "iopub.status.busy": "2022-09-27T22:05:02.680011Z",
     "iopub.status.idle": "2022-09-27T22:05:02.689624Z",
     "shell.execute_reply": "2022-09-27T22:05:02.688757Z",
     "shell.execute_reply.started": "2022-09-27T22:05:02.680609Z"
    }
   },
   "outputs": [],
   "source": [
    "cat_cols = ['Place_ID','Date'\n",
    "           \n",
    "           ]\n",
    "## Count of unique features\n",
    "for i in cat_cols:\n",
    "    data['count_'+i] = data[i].map(data[i].value_counts())\n",
    "# cat_cols"
   ]
  },
  {
   "cell_type": "code",
   "execution_count": 19,
   "metadata": {
    "execution": {
     "iopub.execute_input": "2022-09-27T22:05:02.691549Z",
     "iopub.status.busy": "2022-09-27T22:05:02.691300Z",
     "iopub.status.idle": "2022-09-27T22:05:03.163183Z",
     "shell.execute_reply": "2022-09-27T22:05:03.162200Z",
     "shell.execute_reply.started": "2022-09-27T22:05:02.691525Z"
    }
   },
   "outputs": [
    {
     "data": {
      "text/plain": [
       "((30557, 1087), (16136, 1087))"
      ]
     },
     "execution_count": 19,
     "metadata": {},
     "output_type": "execute_result"
    }
   ],
   "source": [
    "# Separate train and test data from the combined dataframe\n",
    "# data = data.drop(\"ID\", axis = 1)\n",
    "train = data[:ntrain]\n",
    "test = data[ntrain:]\n",
    "train_df= train.copy()\n",
    "test_df= test.copy()\n",
    "\n",
    "\n",
    "\n",
    "\n",
    "# Check the shapes of the split dataset\n",
    "train.shape, test.shape"
   ]
  },
  {
   "cell_type": "code",
   "execution_count": 20,
   "metadata": {
    "execution": {
     "iopub.execute_input": "2022-09-27T22:05:03.165262Z",
     "iopub.status.busy": "2022-09-27T22:05:03.164598Z",
     "iopub.status.idle": "2022-09-27T22:05:03.170355Z",
     "shell.execute_reply": "2022-09-27T22:05:03.169217Z",
     "shell.execute_reply.started": "2022-09-27T22:05:03.165223Z"
    }
   },
   "outputs": [],
   "source": [
    "# train_df.corr()['target'].sort_values()[train_df.corr()['target'].sort_values() < 0]"
   ]
  },
  {
   "cell_type": "code",
   "execution_count": 21,
   "metadata": {
    "execution": {
     "iopub.execute_input": "2022-09-27T22:05:03.172344Z",
     "iopub.status.busy": "2022-09-27T22:05:03.171990Z",
     "iopub.status.idle": "2022-09-27T22:05:03.181189Z",
     "shell.execute_reply": "2022-09-27T22:05:03.180192Z",
     "shell.execute_reply.started": "2022-09-27T22:05:03.172309Z"
    }
   },
   "outputs": [],
   "source": [
    "# train_df.corr()['target'].sort_values()[train_df.corr()['target'].sort_values() > 0]"
   ]
  },
  {
   "cell_type": "code",
   "execution_count": 22,
   "metadata": {
    "execution": {
     "iopub.execute_input": "2022-09-27T22:05:03.182966Z",
     "iopub.status.busy": "2022-09-27T22:05:03.182500Z",
     "iopub.status.idle": "2022-09-27T22:05:03.193564Z",
     "shell.execute_reply": "2022-09-27T22:05:03.192590Z",
     "shell.execute_reply.started": "2022-09-27T22:05:03.182929Z"
    }
   },
   "outputs": [],
   "source": [
    "\n",
    "main_cols = train_df.columns.difference(['Place_ID X Date','target', 'target_min',\n",
    "       'target_max', 'target_variance', 'target_count','Place_ID'])\n",
    "    "
   ]
  },
  {
   "cell_type": "code",
   "execution_count": 23,
   "metadata": {
    "execution": {
     "iopub.execute_input": "2022-09-27T22:05:03.195497Z",
     "iopub.status.busy": "2022-09-27T22:05:03.194910Z",
     "iopub.status.idle": "2022-09-27T22:05:03.204686Z",
     "shell.execute_reply": "2022-09-27T22:05:03.203618Z",
     "shell.execute_reply.started": "2022-09-27T22:05:03.195457Z"
    }
   },
   "outputs": [],
   "source": [
    "\n",
    "# X = train_df[main_cols]\n",
    "# y = train_df.target\n",
    "\n",
    "# model = catt.CatBoostRegressor(random_state = 42,)\n",
    "\n",
    "# import random\n",
    "# random.seed(123)\n",
    "\n",
    "# train_features, valid_features, train_y, valid_y = train_test_split(X, y, test_size = 0.18, stratify = X['Datetime_month'],random_state = 47)\n",
    "# model.fit(train_features, train_y,eval_set = [(train_features, train_y),(valid_features,valid_y)], early_stopping_rounds = 500, \n",
    "#           verbose = 200)"
   ]
  },
  {
   "cell_type": "code",
   "execution_count": 24,
   "metadata": {
    "execution": {
     "iopub.execute_input": "2022-09-27T22:05:03.207719Z",
     "iopub.status.busy": "2022-09-27T22:05:03.207052Z",
     "iopub.status.idle": "2022-09-27T22:05:03.218052Z",
     "shell.execute_reply": "2022-09-27T22:05:03.217037Z",
     "shell.execute_reply.started": "2022-09-27T22:05:03.207680Z"
    }
   },
   "outputs": [],
   "source": [
    "# pd.options.display.max_rows = 2200\n",
    "# #define a function to create variable importance dataframe\n",
    "# def get_catt_varimp(model, train_columns, max_vars=350):\n",
    "    \n",
    "#     # Scikit-learn API LGBMClassifier or LGBMRegressor was fitted, \n",
    "#     # so using feature_importances_ property\n",
    "#     feature_importances_perc = (model.feature_importances_ / sum(model.feature_importances_)) * 100\n",
    "#     cv_varimp_df = pd.DataFrame([train_columns, feature_importances_perc]).T\n",
    "\n",
    "#     cv_varimp_df.columns = ['feature_name', 'varimp (%)']\n",
    "\n",
    "#     cv_varimp_df.sort_values(by='varimp (%)', ascending=False, inplace=True)\n",
    "\n",
    "#     cv_varimp_df = cv_varimp_df.iloc[0:max_vars]   \n",
    "\n",
    "#     return cv_varimp_df\n",
    "# #\n",
    "# get_catt_varimp(model, X.columns)"
   ]
  },
  {
   "cell_type": "code",
   "execution_count": 25,
   "metadata": {
    "execution": {
     "iopub.execute_input": "2022-09-27T22:05:03.307652Z",
     "iopub.status.busy": "2022-09-27T22:05:03.306718Z",
     "iopub.status.idle": "2022-09-27T22:05:03.436203Z",
     "shell.execute_reply": "2022-09-27T22:05:03.435203Z",
     "shell.execute_reply.started": "2022-09-27T22:05:03.307609Z"
    }
   },
   "outputs": [
    {
     "data": {
      "text/plain": [
       "((30557, 1080), (16136, 1080))"
      ]
     },
     "execution_count": 25,
     "metadata": {},
     "output_type": "execute_result"
    }
   ],
   "source": [
    "X = train_df[main_cols]\n",
    "y = train_df['target']\n",
    "X_test = test_df[main_cols]\n",
    "X.shape,X_test.shape"
   ]
  },
  {
   "cell_type": "code",
   "execution_count": 26,
   "metadata": {
    "execution": {
     "iopub.execute_input": "2022-09-27T22:05:03.438755Z",
     "iopub.status.busy": "2022-09-27T22:05:03.438161Z",
     "iopub.status.idle": "2022-09-27T22:05:03.449883Z",
     "shell.execute_reply": "2022-09-27T22:05:03.448960Z",
     "shell.execute_reply.started": "2022-09-27T22:05:03.438715Z"
    }
   },
   "outputs": [],
   "source": [
    "\n",
    "\n",
    "def objective(trial):\n",
    "    fold_pred=[]\n",
    "    oof_pred = []\n",
    "\n",
    "\n",
    "    param = {}\n",
    "    param['objective'] = \"rmse\"\n",
    "\n",
    "    param[\"learning_rate\"] = trial.suggest_float(\"learning_rate\", 1e-2, 0.25, log=True)\n",
    "#     param['reg_lambda'] = trial.suggest_loguniform(\"reg_lambda\", 1e-8, 100.0)\n",
    "#     param['reg_alpha'] = trial.suggest_loguniform(\"reg_alpha\", 1e-8, 100.0)\n",
    "    param['subsample'] = trial.suggest_float(\"subsample\", 0.1, 1.0)\n",
    "    param['colsample_bytree'] = trial.suggest_float(\"colsample_bytree\", 0.1, 1.0)\n",
    "    param['max_depth'] = trial.suggest_int(\"max_depth\", 5, 20)\n",
    "    # param['scale_pos_weight'] = trial.suggest_int('scale_pos_weight', 3, 10)\n",
    "\n",
    "\n",
    "\n",
    "\n",
    "    fold=StratifiedKFold(n_splits=10)#15#5#10\n",
    "    i=1\n",
    "    for train_index, test_index in fold.split(X,X['Datetime_month']):\n",
    "        \n",
    "        X_train, X_test = X.iloc[train_index], X.iloc[test_index]\n",
    "        y_train, y_test = (y.iloc[train_index]), y.iloc[test_index]\n",
    "        # m2 = CatBoostRegressor(**param)\n",
    "        m2 = lgb.LGBMRegressor(**param, n_estimators=2000)\n",
    "\n",
    "        m2.fit(X_train,y_train,eval_set=[(X_train,y_train),(X_test, y_test)], early_stopping_rounds=200, verbose = False)#erly100\n",
    "        preds=m2.predict(X_test)\n",
    "        oof_pred.append(mean_squared_error(y_test,(preds), squared=False))\n",
    "\n",
    "    \n",
    "\n",
    "    return np.mean(oof_pred)\n",
    "\n"
   ]
  },
  {
   "cell_type": "code",
   "execution_count": 27,
   "metadata": {
    "execution": {
     "iopub.execute_input": "2022-09-27T22:05:03.453431Z",
     "iopub.status.busy": "2022-09-27T22:05:03.452914Z",
     "iopub.status.idle": "2022-09-27T22:05:03.462879Z",
     "shell.execute_reply": "2022-09-27T22:05:03.461771Z",
     "shell.execute_reply.started": "2022-09-27T22:05:03.453405Z"
    },
    "scrolled": true
   },
   "outputs": [],
   "source": [
    "# study = optuna.create_study(direction=\"minimize\")\n",
    "# study.optimize(objective, n_trials=100)"
   ]
  },
  {
   "cell_type": "code",
   "execution_count": 28,
   "metadata": {
    "execution": {
     "iopub.execute_input": "2022-09-27T22:05:03.464397Z",
     "iopub.status.busy": "2022-09-27T22:05:03.463906Z",
     "iopub.status.idle": "2022-09-27T22:05:03.474101Z",
     "shell.execute_reply": "2022-09-27T22:05:03.473113Z",
     "shell.execute_reply.started": "2022-09-27T22:05:03.464361Z"
    }
   },
   "outputs": [],
   "source": [
    "# print(\"Number of finished trials: {}\".format(len(study.trials)))\n",
    "\n",
    "# print(\"Best trial:\")\n",
    "# trial = study.best_trial\n",
    "\n",
    "# print(\"  Value: {}\".format(trial.value))\n",
    "\n",
    "# print(\"  Params: \")\n",
    "# for key, value in trial.params.items():\n",
    "#     print(\"    {}: {}\".format(key, value))"
   ]
  },
  {
   "cell_type": "code",
   "execution_count": 29,
   "metadata": {
    "execution": {
     "iopub.execute_input": "2022-09-27T22:05:03.476013Z",
     "iopub.status.busy": "2022-09-27T22:05:03.475629Z",
     "iopub.status.idle": "2022-09-27T22:05:03.484299Z",
     "shell.execute_reply": "2022-09-27T22:05:03.483286Z",
     "shell.execute_reply.started": "2022-09-27T22:05:03.475934Z"
    }
   },
   "outputs": [],
   "source": [
    "# trial.params   #best params"
   ]
  },
  {
   "cell_type": "code",
   "execution_count": 30,
   "metadata": {
    "execution": {
     "iopub.execute_input": "2022-09-27T22:05:03.486177Z",
     "iopub.status.busy": "2022-09-27T22:05:03.485751Z",
     "iopub.status.idle": "2022-09-27T22:47:46.316312Z",
     "shell.execute_reply": "2022-09-27T22:47:46.315515Z",
     "shell.execute_reply.started": "2022-09-27T22:05:03.486120Z"
    }
   },
   "outputs": [
    {
     "name": "stdout",
     "output_type": "stream",
     "text": [
      "err:  28.961173616846743\n",
      "err:  24.44802691064127\n",
      "err:  24.225940715505054\n",
      "err:  24.444868819364874\n",
      "err:  24.628316969410015\n",
      "err:  23.838539013760037\n",
      "err:  23.398411964797937\n",
      "err:  23.983564636947595\n",
      "err:  26.127627404679252\n",
      "err:  23.033734668370894\n",
      "24.70902047203237\n"
     ]
    }
   ],
   "source": [
    "\n",
    "\n",
    "fold_pred=[]\n",
    "oof_pred = []\n",
    "\n",
    "param = {'learning_rate': 0.03531634926079207,\n",
    " 'subsample': 0.36275907211034,\n",
    " 'colsample_bytree': 0.2822120227878022,\n",
    " 'max_depth': 16}\n",
    "\n",
    "fold= StratifiedKFold(n_splits=10)#15#5#10\n",
    "i=1\n",
    "for train_index, test_index in fold.split(X,X['Datetime_month']):     \n",
    "  \n",
    "    X_train, X_test = X.iloc[train_index], X.iloc[test_index]\n",
    "    y_train, y_test = (y.iloc[train_index]), y.iloc[test_index]\n",
    "\n",
    "    model = lgb.LGBMRegressor(**param,objective='rmse', n_estimators=2000)\n",
    "\n",
    "    model.fit(X_train,y_train,eval_set=[(X_train,y_train),(X_test, y_test)], early_stopping_rounds=200, verbose = False)#erly100\n",
    "\n",
    "    preds= model.predict(X_test)\n",
    "    print(\"err: \",(mean_squared_error(y_test,(preds), squared=False)))  #Reverse transformation\n",
    "    oof_pred.append(mean_squared_error(y_test,(preds),squared=False))\n",
    "    p2 = model.predict(test_df[X.columns])\n",
    "    fold_pred.append((p2))\n",
    "    \n",
    "\n",
    "print(np.mean(oof_pred))\n",
    "\n"
   ]
  },
  {
   "cell_type": "markdown",
   "metadata": {},
   "source": [
    "31.602061259577983"
   ]
  },
  {
   "cell_type": "code",
   "execution_count": 31,
   "metadata": {
    "execution": {
     "iopub.execute_input": "2022-09-27T22:47:46.323133Z",
     "iopub.status.busy": "2022-09-27T22:47:46.321380Z",
     "iopub.status.idle": "2022-09-27T22:47:46.339110Z",
     "shell.execute_reply": "2022-09-27T22:47:46.338136Z",
     "shell.execute_reply.started": "2022-09-27T22:47:46.323098Z"
    }
   },
   "outputs": [
    {
     "data": {
      "text/html": [
       "<div>\n",
       "<style scoped>\n",
       "    .dataframe tbody tr th:only-of-type {\n",
       "        vertical-align: middle;\n",
       "    }\n",
       "\n",
       "    .dataframe tbody tr th {\n",
       "        vertical-align: top;\n",
       "    }\n",
       "\n",
       "    .dataframe thead th {\n",
       "        text-align: right;\n",
       "    }\n",
       "</style>\n",
       "<table border=\"1\" class=\"dataframe\">\n",
       "  <thead>\n",
       "    <tr style=\"text-align: right;\">\n",
       "      <th></th>\n",
       "      <th>Place_ID X Date</th>\n",
       "      <th>target</th>\n",
       "    </tr>\n",
       "  </thead>\n",
       "  <tbody>\n",
       "    <tr>\n",
       "      <th>30557</th>\n",
       "      <td>0OS9LVX X 2020-01-02</td>\n",
       "      <td>43.59879</td>\n",
       "    </tr>\n",
       "    <tr>\n",
       "      <th>30558</th>\n",
       "      <td>0Q2LTOG X 2020-01-02</td>\n",
       "      <td>102.72293</td>\n",
       "    </tr>\n",
       "    <tr>\n",
       "      <th>30559</th>\n",
       "      <td>15WCXN1 X 2020-01-02</td>\n",
       "      <td>190.52692</td>\n",
       "    </tr>\n",
       "    <tr>\n",
       "      <th>30560</th>\n",
       "      <td>19090SM X 2020-01-02</td>\n",
       "      <td>106.60923</td>\n",
       "    </tr>\n",
       "    <tr>\n",
       "      <th>30561</th>\n",
       "      <td>1BD5TVT X 2020-01-02</td>\n",
       "      <td>77.51863</td>\n",
       "    </tr>\n",
       "  </tbody>\n",
       "</table>\n",
       "</div>"
      ],
      "text/plain": [
       "            Place_ID X Date    target\n",
       "30557  0OS9LVX X 2020-01-02  43.59879\n",
       "30558  0Q2LTOG X 2020-01-02 102.72293\n",
       "30559  15WCXN1 X 2020-01-02 190.52692\n",
       "30560  19090SM X 2020-01-02 106.60923\n",
       "30561  1BD5TVT X 2020-01-02  77.51863"
      ]
     },
     "execution_count": 31,
     "metadata": {},
     "output_type": "execute_result"
    }
   ],
   "source": [
    "sub_df = test_df[['Place_ID X Date']].copy()\n",
    "sub_df['target'] = np.mean(fold_pred, axis = 0)\n",
    "sub_df.head()"
   ]
  },
  {
   "cell_type": "code",
   "execution_count": 32,
   "metadata": {
    "execution": {
     "iopub.execute_input": "2022-09-27T22:47:46.382574Z",
     "iopub.status.busy": "2022-09-27T22:47:46.382028Z",
     "iopub.status.idle": "2022-09-27T22:47:46.421669Z",
     "shell.execute_reply": "2022-09-27T22:47:46.420805Z",
     "shell.execute_reply.started": "2022-09-27T22:47:46.382535Z"
    }
   },
   "outputs": [],
   "source": [
    "sub_df.to_csv('lgb_iamtired.csv', index=False)\n"
   ]
  },
  {
   "cell_type": "markdown",
   "metadata": {},
   "source": [
    "## CatBoost Modelling"
   ]
  },
  {
   "cell_type": "code",
   "execution_count": 34,
   "metadata": {},
   "outputs": [
    {
     "name": "stderr",
     "output_type": "stream",
     "text": [
      "Custom logger is already specified. Specify more than one logger at same time is not thread safe."
     ]
    },
    {
     "name": "stdout",
     "output_type": "stream",
     "text": [
      "err:  28.245909043275752\n",
      "err:  24.445605647169092\n",
      "err:  24.41352497865531\n",
      "err:  24.215332960827027\n",
      "err:  23.96650828404815\n",
      "err:  23.794847616032087\n",
      "err:  22.998438738073865\n",
      "err:  23.38874159606381\n",
      "err:  25.82744366436217\n",
      "err:  22.971144355403514\n",
      "24.426749688391077\n"
     ]
    }
   ],
   "source": [
    "fold_pred=[]\n",
    "oof_pred = []\n",
    "\n",
    "params = {'max_depth': 5, 'learning_rate': 0.054311625828468046, 'l2_leaf_reg': 0.023393133390917083,'iterations':10000}\n",
    "\n",
    "\n",
    "\n",
    "\n",
    "\n",
    "fold= StratifiedKFold(n_splits=10)#15#5#10\n",
    "i=1\n",
    "for train_index, test_index in fold.split(X,X['Datetime_month']):     \n",
    "  \n",
    "    X_train, X_test = X.iloc[train_index], X.iloc[test_index]\n",
    "    y_train, y_test = (y.iloc[train_index]), y.iloc[test_index]\n",
    "\n",
    "    model = catt.CatBoostRegressor(**params,eval_metric='RMSE',random_state=42)\n",
    "    model.fit(X_train,y_train,eval_set=[(X_test, y_test)], early_stopping_rounds=250, verbose = False)#erly100\n",
    "\n",
    "    preds= model.predict(X_test)\n",
    "    print(\"err: \",(mean_squared_error(y_test,(preds), squared=False)))  #Reverse transformation\n",
    "    oof_pred.append(mean_squared_error(y_test,(preds),squared=False))\n",
    "    p2 = model.predict(test_df[X.columns])\n",
    "    fold_pred.append((p2))\n",
    "    \n",
    "\n",
    "print(np.mean(oof_pred))"
   ]
  },
  {
   "cell_type": "markdown",
   "metadata": {},
   "source": [
    "25.65513541690664 - 25.642662237542975 - 24.70872401160831"
   ]
  },
  {
   "cell_type": "code",
   "execution_count": 35,
   "metadata": {},
   "outputs": [
    {
     "data": {
      "text/html": [
       "<div>\n",
       "<style scoped>\n",
       "    .dataframe tbody tr th:only-of-type {\n",
       "        vertical-align: middle;\n",
       "    }\n",
       "\n",
       "    .dataframe tbody tr th {\n",
       "        vertical-align: top;\n",
       "    }\n",
       "\n",
       "    .dataframe thead th {\n",
       "        text-align: right;\n",
       "    }\n",
       "</style>\n",
       "<table border=\"1\" class=\"dataframe\">\n",
       "  <thead>\n",
       "    <tr style=\"text-align: right;\">\n",
       "      <th></th>\n",
       "      <th>Place_ID X Date</th>\n",
       "      <th>target</th>\n",
       "    </tr>\n",
       "  </thead>\n",
       "  <tbody>\n",
       "    <tr>\n",
       "      <th>30557</th>\n",
       "      <td>0OS9LVX X 2020-01-02</td>\n",
       "      <td>47.84196</td>\n",
       "    </tr>\n",
       "    <tr>\n",
       "      <th>30558</th>\n",
       "      <td>0Q2LTOG X 2020-01-02</td>\n",
       "      <td>97.07852</td>\n",
       "    </tr>\n",
       "    <tr>\n",
       "      <th>30559</th>\n",
       "      <td>15WCXN1 X 2020-01-02</td>\n",
       "      <td>210.33255</td>\n",
       "    </tr>\n",
       "    <tr>\n",
       "      <th>30560</th>\n",
       "      <td>19090SM X 2020-01-02</td>\n",
       "      <td>115.99422</td>\n",
       "    </tr>\n",
       "    <tr>\n",
       "      <th>30561</th>\n",
       "      <td>1BD5TVT X 2020-01-02</td>\n",
       "      <td>79.06202</td>\n",
       "    </tr>\n",
       "  </tbody>\n",
       "</table>\n",
       "</div>"
      ],
      "text/plain": [
       "            Place_ID X Date    target\n",
       "30557  0OS9LVX X 2020-01-02  47.84196\n",
       "30558  0Q2LTOG X 2020-01-02  97.07852\n",
       "30559  15WCXN1 X 2020-01-02 210.33255\n",
       "30560  19090SM X 2020-01-02 115.99422\n",
       "30561  1BD5TVT X 2020-01-02  79.06202"
      ]
     },
     "execution_count": 35,
     "metadata": {},
     "output_type": "execute_result"
    }
   ],
   "source": [
    "sub_df = test_df[['Place_ID X Date']].copy()\n",
    "sub_df['target'] = np.mean(fold_pred, axis = 0)\n",
    "sub_df.head()"
   ]
  },
  {
   "cell_type": "code",
   "execution_count": 36,
   "metadata": {},
   "outputs": [],
   "source": [
    "sub_df.to_csv('cat_iamtired.csv', index=False)\n"
   ]
  },
  {
   "cell_type": "markdown",
   "metadata": {},
   "source": [
    "## Ensembling"
   ]
  },
  {
   "cell_type": "code",
   "execution_count": 37,
   "metadata": {},
   "outputs": [],
   "source": [
    "first = pd.read_csv('lgb_iamtired.csv')\n",
    "second = pd.read_csv('cat_iamtired.csv')\n",
    "ens = first.copy()"
   ]
  },
  {
   "cell_type": "code",
   "execution_count": 38,
   "metadata": {},
   "outputs": [],
   "source": [
    "ens['target'] = first['target']*0.6 + second['target']*0.4\n",
    "ens.to_csv('ensemble_1.csv', index=False)"
   ]
  },
  {
   "cell_type": "code",
   "execution_count": 39,
   "metadata": {},
   "outputs": [],
   "source": [
    "ens['target'] = second['target']*0.6 + first['target']*0.4\n",
    "ens.to_csv('ensemble_2.csv', index=False)"
   ]
  },
  {
   "cell_type": "code",
   "execution_count": null,
   "metadata": {},
   "outputs": [],
   "source": []
  }
 ],
 "metadata": {
  "kernelspec": {
   "display_name": "Python 3 (ipykernel)",
   "language": "python",
   "name": "python3"
  },
  "language_info": {
   "codemirror_mode": {
    "name": "ipython",
    "version": 3
   },
   "file_extension": ".py",
   "mimetype": "text/x-python",
   "name": "python",
   "nbconvert_exporter": "python",
   "pygments_lexer": "ipython3",
   "version": "3.8.10"
  }
 },
 "nbformat": 4,
 "nbformat_minor": 4
}
